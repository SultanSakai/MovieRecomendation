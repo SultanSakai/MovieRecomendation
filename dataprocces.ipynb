{
 "cells": [
  {
   "cell_type": "code",
   "execution_count": 2,
   "metadata": {},
   "outputs": [],
   "source": [
    "import numpy as np\n",
    "import pandas as pd\n",
    "import json"
   ]
  },
  {
   "cell_type": "code",
   "execution_count": 5,
   "metadata": {},
   "outputs": [],
   "source": [
    "with open(\"data/test_extend.json\", 'r', encoding='utf-8') as file:\n",
    "    films = json.load(file)"
   ]
  },
  {
   "cell_type": "code",
   "execution_count": 4,
   "metadata": {},
   "outputs": [
    {
     "data": {
      "text/plain": [
       "[1, 2, 3, 4, 5]"
      ]
     },
     "execution_count": 4,
     "metadata": {},
     "output_type": "execute_result"
    }
   ],
   "source": [
    "for key in films:\n",
    "    films[key][0] = films[key][0][:-1]\n",
    "    films[key][1] = films[key][1][:-1]\n",
    "    films[key][2] = films[key][2][:-1]\n",
    "    films[key][3] = films[key][3][:-1]\n",
    "    films[key][4] = films[key][4][:-1]\n",
    "    films[key][5] = films[key][5][:-1]\n",
    "    films[key][6] = films[key][6][:-1]\n",
    "    films[key][7] = films[key][7][:-1]"
   ]
  }
 ],
 "metadata": {
  "kernelspec": {
   "display_name": "movie",
   "language": "python",
   "name": "python3"
  },
  "language_info": {
   "codemirror_mode": {
    "name": "ipython",
    "version": 3
   },
   "file_extension": ".py",
   "mimetype": "text/x-python",
   "name": "python",
   "nbconvert_exporter": "python",
   "pygments_lexer": "ipython3",
   "version": "3.11.10"
  }
 },
 "nbformat": 4,
 "nbformat_minor": 2
}
