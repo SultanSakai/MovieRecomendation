{
 "cells": [
  {
   "cell_type": "code",
   "execution_count": 1,
   "metadata": {},
   "outputs": [],
   "source": [
    "import numpy as np\n",
    "import pandas as pd "
   ]
  },
  {
   "cell_type": "code",
   "execution_count": 4,
   "metadata": {},
   "outputs": [],
   "source": [
    "data_frame = pd.read_csv(\"data/films.csv\")"
   ]
  },
  {
   "cell_type": "code",
   "execution_count": 9,
   "metadata": {},
   "outputs": [
    {
     "name": "stdout",
     "output_type": "stream",
     "text": [
      "[879, 552, 558, 11675, 558, 1091, 550, 2052, 10573, 97]\n"
     ]
    },
    {
     "data": {
      "text/plain": [
       "'hoeler kerjkejr <<<'"
      ]
     },
     "execution_count": 9,
     "metadata": {},
     "output_type": "execute_result"
    }
   ],
   "source": [
    "from tokenizer.tokenizer import Tokenizer\n",
    "\n",
    "tk = Tokenizer()\n",
    "\n",
    "res = tk.encode(\"Hoeler kerjkejr <<<\", \"tokenizer/tokens_encode.json\")\n",
    "print(res)\n",
    "tk.decode(res, \"tokenizer/tokens_decode.json\")"
   ]
  }
 ],
 "metadata": {
  "kernelspec": {
   "display_name": "movie",
   "language": "python",
   "name": "python3"
  },
  "language_info": {
   "codemirror_mode": {
    "name": "ipython",
    "version": 3
   },
   "file_extension": ".py",
   "mimetype": "text/x-python",
   "name": "python",
   "nbconvert_exporter": "python",
   "pygments_lexer": "ipython3",
   "version": "3.11.10"
  }
 },
 "nbformat": 4,
 "nbformat_minor": 2
}
