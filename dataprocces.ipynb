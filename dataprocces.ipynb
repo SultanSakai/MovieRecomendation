{
 "cells": [
  {
   "cell_type": "code",
   "execution_count": 1,
   "metadata": {},
   "outputs": [],
   "source": [
    "import numpy as np\n",
    "import pandas as pd\n",
    "import json"
   ]
  },
  {
   "cell_type": "code",
   "execution_count": 2,
   "metadata": {},
   "outputs": [],
   "source": [
    "with open(\"data/for_web.json\", 'r', encoding='utf-8') as file:\n",
    "    films = json.load(file)"
   ]
  },
  {
   "cell_type": "code",
   "execution_count": 10,
   "metadata": {},
   "outputs": [],
   "source": [
    "from tokenizer.tokenizer import Tokenizer\n",
    "\n",
    "#   0     1      2      3       4       5     6        7\n",
    "# [name,year,country,genre,duration,director,cast,description]\n",
    "\n",
    "tk = Tokenizer()\n",
    "result = {}\n",
    "\n",
    "for key in films:\n",
    "    name = tk.encode(films[key][0])\n",
    "    year = films[key][1]\n",
    "    country = tk.encode(films[key][2])\n",
    "    genre = tk.encode(films[key][3])\n",
    "    duration = films[key][4]\n",
    "    director = tk.encode(films[key][5])\n",
    "    cast = tk.encode(films[key][6])\n",
    "    description = tk.encode(films[key][7])\n",
    "\n",
    "    # print(name, country, director, cast, description)\n",
    "\n",
    "    result[key] = [name, year, country, genre, duration, director, cast, description]\n",
    "\n",
    "with open(\"films_tokens.json\", 'w', encoding='utf-8') as file:\n",
    "    json.dump(result, file, ensure_ascii=False, indent=4)"
   ]
  },
  {
   "cell_type": "code",
   "execution_count": null,
   "metadata": {},
   "outputs": [],
   "source": [
    "with open(\"data/films_tokens.json\", 'r', encoding='utf-8') as file:\n",
    "    tkl = json.load(file)\n",
    "\n",
    "name_size = 0\n",
    "country_size = 0\n",
    "genre_size = 0\n",
    "director_size = 0\n",
    "cast_size = 0\n",
    "description_size = 0\n",
    "\n",
    "\n",
    "for key in tkl:\n",
    "    if len(tkl[key][0]) > name_size:\n",
    "        name_size = len(tkl[key][0])\n",
    "\n",
    "    if len(tkl[key][2]) > country_size:\n",
    "        country_size = len(tkl[key][2])  \n",
    "\n",
    "    if len(tkl[key][3]) > genre_size:\n",
    "        genre_size = len(tkl[key][3])\n",
    "\n",
    "    if len(tkl[key][5]) > director_size:\n",
    "        director_size = len(tkl[key][5])\n",
    "    \n",
    "    if len(tkl[key][6]) > cast_size:\n",
    "        cast_size = len(tkl[key][6])\n",
    "\n",
    "    if len(tkl[key][7]) > description_size:\n",
    "        description_size = len(tkl[key][7])\n",
    "\n",
    "name_size, country_size, genre_size, director_size, cast_size, description_size"
   ]
  }
 ],
 "metadata": {
  "kernelspec": {
   "display_name": "movie",
   "language": "python",
   "name": "python3"
  },
  "language_info": {
   "codemirror_mode": {
    "name": "ipython",
    "version": 3
   },
   "file_extension": ".py",
   "mimetype": "text/x-python",
   "name": "python",
   "nbconvert_exporter": "python",
   "pygments_lexer": "ipython3",
   "version": "3.11.10"
  }
 },
 "nbformat": 4,
 "nbformat_minor": 2
}
