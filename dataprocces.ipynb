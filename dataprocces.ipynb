{
 "cells": [
  {
   "cell_type": "code",
   "execution_count": 1,
   "metadata": {},
   "outputs": [],
   "source": [
    "import numpy as np\n",
    "import pandas as pd\n",
    "import json"
   ]
  },
  {
   "cell_type": "code",
   "execution_count": 7,
   "metadata": {},
   "outputs": [],
   "source": [
    "with open(\"films.json\", 'r', encoding='utf-8') as file:\n",
    "    films = json.load(file)\n",
    "\n",
    "with open(\"test.json\", 'r', encoding='utf-8') as file:\n",
    "    test = json.load(file)\n",
    "\n",
    "for key in test:\n",
    "    films[key].append(test[key])\n",
    "\n",
    "with open(\"test.json\", 'w', encoding='utf-8') as file:\n",
    "    films = json.dump(films, file, ensure_ascii=False, indent=4)"
   ]
  }
 ],
 "metadata": {
  "kernelspec": {
   "display_name": "movie",
   "language": "python",
   "name": "python3"
  },
  "language_info": {
   "codemirror_mode": {
    "name": "ipython",
    "version": 3
   },
   "file_extension": ".py",
   "mimetype": "text/x-python",
   "name": "python",
   "nbconvert_exporter": "python",
   "pygments_lexer": "ipython3",
   "version": "3.11.10"
  }
 },
 "nbformat": 4,
 "nbformat_minor": 2
}
