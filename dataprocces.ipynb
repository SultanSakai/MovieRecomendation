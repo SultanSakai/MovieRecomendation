{
 "cells": [
  {
   "cell_type": "code",
   "execution_count": 1,
   "metadata": {},
   "outputs": [],
   "source": [
    "import numpy as np\n",
    "import pandas as pd\n",
    "import json"
   ]
  },
  {
   "cell_type": "code",
   "execution_count": 2,
   "metadata": {},
   "outputs": [],
   "source": [
    "with open(\"data/for_web.json\", 'r', encoding='utf-8') as file:\n",
    "    films = json.load(file)"
   ]
  },
  {
   "cell_type": "code",
   "execution_count": 10,
   "metadata": {},
   "outputs": [],
   "source": [
    "from tokenizer.tokenizer import Tokenizer\n",
    "\n",
    "#   0     1      2      3       4       5     6        7\n",
    "# [name,year,country,genre,duration,director,cast,description]\n",
    "\n",
    "tk = Tokenizer()\n",
    "result = {}\n",
    "\n",
    "for key in films:\n",
    "    name = tk.encode(films[key][0])\n",
    "    year = films[key][1]\n",
    "    country = tk.encode(films[key][2])\n",
    "    genre = tk.encode(films[key][3])\n",
    "    duration = films[key][4]\n",
    "    director = tk.encode(films[key][5])\n",
    "    cast = tk.encode(films[key][6])\n",
    "    description = tk.encode(films[key][7])\n",
    "\n",
    "    # print(name, country, director, cast, description)\n",
    "\n",
    "    result[key] = [name, year, country, genre, duration, director, cast, description]\n",
    "\n",
    "with open(\"films_tokens.json\", 'w', encoding='utf-8') as file:\n",
    "    json.dump(result, file, ensure_ascii=False, indent=4)"
   ]
  },
  {
   "cell_type": "code",
   "execution_count": 3,
   "metadata": {},
   "outputs": [],
   "source": [
    "for key in films:\n",
    "    if films[key][5] == \"Unknown\":\n",
    "        films[key][5] = \"監督\"\n",
    "    if films[key][6] == \"Unknown\":\n",
    "        films[key][6] = \"キャスト\"\n",
    "\n",
    "with open(\"data/for_web.json\", 'w', encoding='utf-8') as file:\n",
    "    json.dump(films, file, ensure_ascii=False, indent=4)"
   ]
  }
 ],
 "metadata": {
  "kernelspec": {
   "display_name": "movie",
   "language": "python",
   "name": "python3"
  },
  "language_info": {
   "codemirror_mode": {
    "name": "ipython",
    "version": 3
   },
   "file_extension": ".py",
   "mimetype": "text/x-python",
   "name": "python",
   "nbconvert_exporter": "python",
   "pygments_lexer": "ipython3",
   "version": "3.11.10"
  }
 },
 "nbformat": 4,
 "nbformat_minor": 2
}
